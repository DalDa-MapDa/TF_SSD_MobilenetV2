{
 "cells": [
  {
   "cell_type": "code",
   "execution_count": null,
   "metadata": {},
   "outputs": [],
   "source": [
    "import tensorflow as tf\n",
    "from tflite_support import metadata\n",
    "\n",
    "def load_and_print_metadata(tflite_model_path):\n",
    "    # Load the TFLite model\n",
    "    with open(tflite_model_path, 'rb') as f:\n",
    "        model_content = f.read()\n",
    "    \n",
    "    # Initialize the metadata displayer\n",
    "    displayer = metadata.MetadataDisplayer.with_model_buffer(model_content)\n",
    "    \n",
    "    # Print the model metadata\n",
    "    model_metadata = displayer.get_metadata_json()\n",
    "    print(\"Model Metadata:\\n\", model_metadata)\n",
    "    \n",
    "    # Optionally, print associated file information\n",
    "    associated_files = displayer.get_packed_associated_file_list()\n",
    "    if associated_files:\n",
    "        print(\"\\nAssociated Files:\")\n",
    "        for file_name in associated_files:\n",
    "            print(file_name)\n",
    "    else:\n",
    "        print(\"\\nNo associated files found.\")\n",
    "\n",
    "# Replace 'your_model.tflite' with the path to your TFLite file\n",
    "tflite_model_path = 'your_model.tflite'\n",
    "load_and_print_metadata(tflite_model_path)\n"
   ]
  }
 ],
 "metadata": {
  "kernelspec": {
   "display_name": "tf2",
   "language": "python",
   "name": "python3"
  },
  "language_info": {
   "codemirror_mode": {
    "name": "ipython",
    "version": 3
   },
   "file_extension": ".py",
   "mimetype": "text/x-python",
   "name": "python",
   "nbconvert_exporter": "python",
   "pygments_lexer": "ipython3",
   "version": "3.11.5"
  }
 },
 "nbformat": 4,
 "nbformat_minor": 2
}
