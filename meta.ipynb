{
 "cells": [
  {
   "cell_type": "code",
   "execution_count": 2,
   "metadata": {},
   "outputs": [
    {
     "ename": "ValueError",
     "evalue": "The model does not have metadata.",
     "output_type": "error",
     "traceback": [
      "\u001b[0;31m---------------------------------------------------------------------------\u001b[0m",
      "\u001b[0;31mValueError\u001b[0m                                Traceback (most recent call last)",
      "Cell \u001b[0;32mIn[2], line 27\u001b[0m\n\u001b[1;32m     25\u001b[0m \u001b[38;5;66;03m# Replace 'your_model.tflite' with the path to your TFLite file\u001b[39;00m\n\u001b[1;32m     26\u001b[0m tflite_model_path \u001b[38;5;241m=\u001b[39m \u001b[38;5;124m'\u001b[39m\u001b[38;5;124mmodel/ssdlite_mobiledet_cpu_320x320_coco_2020_05_19/model.tflite\u001b[39m\u001b[38;5;124m'\u001b[39m\n\u001b[0;32m---> 27\u001b[0m load_and_print_metadata(tflite_model_path)\n",
      "Cell \u001b[0;32mIn[2], line 10\u001b[0m, in \u001b[0;36mload_and_print_metadata\u001b[0;34m(tflite_model_path)\u001b[0m\n\u001b[1;32m      7\u001b[0m     model_content \u001b[38;5;241m=\u001b[39m f\u001b[38;5;241m.\u001b[39mread()\n\u001b[1;32m      9\u001b[0m \u001b[38;5;66;03m# Initialize the metadata displayer\u001b[39;00m\n\u001b[0;32m---> 10\u001b[0m displayer \u001b[38;5;241m=\u001b[39m metadata\u001b[38;5;241m.\u001b[39mMetadataDisplayer\u001b[38;5;241m.\u001b[39mwith_model_buffer(model_content)\n\u001b[1;32m     12\u001b[0m \u001b[38;5;66;03m# Print the model metadata\u001b[39;00m\n\u001b[1;32m     13\u001b[0m model_metadata \u001b[38;5;241m=\u001b[39m displayer\u001b[38;5;241m.\u001b[39mget_metadata_json()\n",
      "File \u001b[0;32m/opt/anaconda3/envs/tf2/lib/python3.11/site-packages/tflite_support/metadata.py:467\u001b[0m, in \u001b[0;36mMetadataDisplayer.with_model_buffer\u001b[0;34m(cls, model_buffer)\u001b[0m\n\u001b[1;32m    465\u001b[0m \u001b[38;5;28;01mwith\u001b[39;00m \u001b[38;5;28mopen\u001b[39m(model_file, \u001b[38;5;124m\"\u001b[39m\u001b[38;5;124mwb\u001b[39m\u001b[38;5;124m\"\u001b[39m) \u001b[38;5;28;01mas\u001b[39;00m f:\n\u001b[1;32m    466\u001b[0m   f\u001b[38;5;241m.\u001b[39mwrite(model_buffer)\n\u001b[0;32m--> 467\u001b[0m \u001b[38;5;28;01mreturn\u001b[39;00m \u001b[38;5;28mcls\u001b[39m\u001b[38;5;241m.\u001b[39mwith_model_file(model_file)\n",
      "File \u001b[0;32m/opt/anaconda3/envs/tf2/lib/python3.11/site-packages/tflite_support/metadata.py:445\u001b[0m, in \u001b[0;36mMetadataDisplayer.with_model_file\u001b[0;34m(cls, model_file)\u001b[0m\n\u001b[1;32m    432\u001b[0m \u001b[38;5;250m\u001b[39m\u001b[38;5;124;03m\"\"\"Creates a MetadataDisplayer object for the model file.\u001b[39;00m\n\u001b[1;32m    433\u001b[0m \n\u001b[1;32m    434\u001b[0m \u001b[38;5;124;03mArgs:\u001b[39;00m\n\u001b[0;32m   (...)\u001b[0m\n\u001b[1;32m    442\u001b[0m \u001b[38;5;124;03m  ValueError: The model does not have metadata.\u001b[39;00m\n\u001b[1;32m    443\u001b[0m \u001b[38;5;124;03m\"\"\"\u001b[39;00m\n\u001b[1;32m    444\u001b[0m _assert_exist(model_file)\n\u001b[0;32m--> 445\u001b[0m metadata_file \u001b[38;5;241m=\u001b[39m \u001b[38;5;28mcls\u001b[39m\u001b[38;5;241m.\u001b[39m_save_temporary_metadata_file(model_file)\n\u001b[1;32m    446\u001b[0m associated_file_list \u001b[38;5;241m=\u001b[39m \u001b[38;5;28mcls\u001b[39m\u001b[38;5;241m.\u001b[39m_parse_packed_associted_file_list(model_file)\n\u001b[1;32m    447\u001b[0m \u001b[38;5;28;01mreturn\u001b[39;00m \u001b[38;5;28mcls\u001b[39m(model_file, metadata_file, associated_file_list)\n",
      "File \u001b[0;32m/opt/anaconda3/envs/tf2/lib/python3.11/site-packages/tflite_support/metadata.py:525\u001b[0m, in \u001b[0;36mMetadataDisplayer._save_temporary_metadata_file\u001b[0;34m(model_file)\u001b[0m\n\u001b[1;32m    522\u001b[0m       f\u001b[38;5;241m.\u001b[39mwrite(metadata_buf)\n\u001b[1;32m    523\u001b[0m       \u001b[38;5;28;01mreturn\u001b[39;00m metadata_file\n\u001b[0;32m--> 525\u001b[0m \u001b[38;5;28;01mraise\u001b[39;00m \u001b[38;5;167;01mValueError\u001b[39;00m(\u001b[38;5;124m\"\u001b[39m\u001b[38;5;124mThe model does not have metadata.\u001b[39m\u001b[38;5;124m\"\u001b[39m)\n",
      "\u001b[0;31mValueError\u001b[0m: The model does not have metadata."
     ]
    }
   ],
   "source": [
    "import tensorflow as tf\n",
    "from tflite_support import metadata\n",
    "\n",
    "def load_and_print_metadata(tflite_model_path):\n",
    "    # Load the TFLite model\n",
    "    with open(tflite_model_path, 'rb') as f:\n",
    "        model_content = f.read()\n",
    "    \n",
    "    # Initialize the metadata displayer\n",
    "    displayer = metadata.MetadataDisplayer.with_model_buffer(model_content)\n",
    "    \n",
    "    # Print the model metadata\n",
    "    model_metadata = displayer.get_metadata_json()\n",
    "    print(\"Model Metadata:\\n\", model_metadata)\n",
    "    \n",
    "    # Optionally, print associated file information\n",
    "    associated_files = displayer.get_packed_associated_file_list()\n",
    "    if associated_files:\n",
    "        print(\"\\nAssociated Files:\")\n",
    "        for file_name in associated_files:\n",
    "            print(file_name)\n",
    "    else:\n",
    "        print(\"\\nNo associated files found.\")\n",
    "\n",
    "# Replace 'your_model.tflite' with the path to your TFLite file\n",
    "tflite_model_path = 'model/ssdlite_mobiledet_cpu_320x320_coco_2020_05_19/model.tflite'\n",
    "load_and_print_metadata(tflite_model_path)\n"
   ]
  }
 ],
 "metadata": {
  "kernelspec": {
   "display_name": "tf2",
   "language": "python",
   "name": "python3"
  },
  "language_info": {
   "codemirror_mode": {
    "name": "ipython",
    "version": 3
   },
   "file_extension": ".py",
   "mimetype": "text/x-python",
   "name": "python",
   "nbconvert_exporter": "python",
   "pygments_lexer": "ipython3",
   "version": "3.11.5"
  }
 },
 "nbformat": 4,
 "nbformat_minor": 2
}
